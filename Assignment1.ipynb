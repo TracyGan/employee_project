{
 "cells": [
  {
   "cell_type": "code",
   "execution_count": null,
   "id": "0d13f428-bf60-461e-9c6d-3e33167a379a",
   "metadata": {},
   "outputs": [],
   "source": [
    "# Group project"
   ]
  }
 ],
 "metadata": {
  "kernelspec": {
   "display_name": "R",
   "language": "R",
   "name": "ir"
  },
  "language_info": {
   "codemirror_mode": "r",
   "file_extension": ".r",
   "mimetype": "text/x-r-source",
   "name": "R",
   "pygments_lexer": "r",
   "version": "4.3.3"
  }
 },
 "nbformat": 4,
 "nbformat_minor": 5
}
