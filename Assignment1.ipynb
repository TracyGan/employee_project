{
 "cells": [
  {
   "cell_type": "markdown",
   "id": "23483b32-cbf5-4104-b61c-dd0a4554ab25",
   "metadata": {},
   "source": [
    "# Employee Group Project 23\n",
    "\n",
    "##### By Tracy Gan, Aronn Laurel, Nikita Prabhu, Nolan Vu\n"
   ]
  },
  {
   "cell_type": "markdown",
   "id": "c11b9727-1647-4c8c-bbe6-cc9560e33631",
   "metadata": {},
   "source": [
    "### Data Description\n",
    "\n",
    "The Employee dataset contains information about the employees in the company, including their personal information such as age, gender, educational background, years of experience, salary tier, and the city where they work. The dataset also contains their information in regards to the company, such as the year they joined, and if they were ever benched. Specifically, each variable is broken down into\n",
    "\n",
    "| Variable Name     | Type of Variable | Description |\n",
    "|-------------------|------------------|-------------|\n",
    "| Education         | Categorical  | It represents the educational qualities of employees. There are three unique levels for this categorical variable, which are Bachelors, Masters, and PHD.   |\n",
    "| JoiningYear       | Categorical  | Los Angeles  |\n",
    "| City              | Categorical  | Chicago      |\n",
    "| PaymentTier         | INSERT  | INSERT   |\n",
    "| Age       | INSERT  | INSERT  |\n",
    "| Gender              | INSERT  |INSERT  |\n",
    "| EverBenched         | INSERT  | INSERT    |\n",
    "| ExperienceInCurrentDomain       |  INSERT |INSERT  |\n",
    "| LeaveOrNot              | INSERT  | INSERT     |"
   ]
  },
  {
   "cell_type": "markdown",
   "id": "22371431-8d6d-433b-ae50-41f560d718f6",
   "metadata": {},
   "source": [
    "In total, there are 4653 rows of data for each column, where there are no missing values for any of the variables. This dataset also "
   ]
  },
  {
   "cell_type": "code",
   "execution_count": null,
   "id": "53fb2184-b0f9-4b54-a678-b22fbfac8ecc",
   "metadata": {},
   "outputs": [],
   "source": []
  }
 ],
 "metadata": {
  "kernelspec": {
   "display_name": "R",
   "language": "R",
   "name": "ir"
  },
  "language_info": {
   "codemirror_mode": "r",
   "file_extension": ".r",
   "mimetype": "text/x-r-source",
   "name": "R",
   "pygments_lexer": "r",
   "version": "4.3.3"
  }
 },
 "nbformat": 4,
 "nbformat_minor": 5
}
