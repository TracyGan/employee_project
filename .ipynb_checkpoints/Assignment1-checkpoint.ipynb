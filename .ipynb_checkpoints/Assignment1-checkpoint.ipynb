{
 "cells": [
  {
   "cell_type": "markdown",
   "id": "23483b32-cbf5-4104-b61c-dd0a4554ab25",
   "metadata": {},
   "source": [
    "# Employee Group Project 23\n",
    "\n",
    "##### By Tracy Gan, Aronn Laurel, Nikita Prabhu, Nolan Vu\n"
   ]
  },
  {
   "cell_type": "markdown",
   "id": "c11b9727-1647-4c8c-bbe6-cc9560e33631",
   "metadata": {},
   "source": [
    "### Data Description\n",
    "\n",
    "The Employee dataset contains information about the employees in the company, including their personal information such as age, gender, educational background, years of experience, salary tier, and the city where they work. The dataset also contains their information in regards to the company, such as the year they joined, and if they were ever benched. Specifically, each variable is broken down into\n",
    "\n",
    "| Variable Name     | Type of Variable | Description |\n",
    "|-------------------|------------------|-------------|\n",
    "| Education         | Categorical  | It represents the educational qualities of employees. There are three unique levels for this categorical variable, which are Bachelors, Masters, and PHD.   |\n",
    "| JoiningYear       | Categorical  | It represents the year each employee joined the company, which also indicates the length of their service to the company.  |\n",
    "| City              | Categorical  | It represents the city where the employee works at. There are three unique values for this categorical variable, which are Bangalore, Pune, New Delhi.      |\n",
    "| PaymentTier         | INSERT  | INSERT   |\n",
    "| Age       | INSERT  | INSERT  |\n",
    "| Gender              | INSERT  |INSERT  |\n",
    "| EverBenched         | INSERT  | INSERT    |\n",
    "| ExperienceInCurrentDomain       |  INSERT |INSERT  |\n",
    "| LeaveOrNot              | INSERT  | INSERT     |"
   ]
  },
  {
   "cell_type": "markdown",
   "id": "22371431-8d6d-433b-ae50-41f560d718f6",
   "metadata": {},
   "source": [
    "In total, there are 4653 rows of data for each column, where there are no missing values for any of the variables. This Employee dataset, found on Kaggle, came from the contributions of a HR department of a company, of which is anonymized as well as the people who contribute to this dataset. \n",
    "\n",
    "### Question\n",
    "\n",
    "With this dataset, we are interested in mainly two questions. \n",
    "1. Can age, the year they joined and their payment tier be used to predict whether an employee would leave the company?\n",
    "2. Does education, gender and experience in the current domain affect the payment tier?\n",
    "\n",
    "Hence, we will conduct some exploratory data analysis and visualisation to answer our questions."
   ]
  },
  {
   "cell_type": "code",
   "execution_count": 4,
   "id": "6d2bd05b-a934-45b1-9d12-14d632c581fb",
   "metadata": {},
   "outputs": [],
   "source": [
    "# Firstly, we will load some libraries so that we can perform data analysis and visualisation to answer our question.\n",
    "\n",
    "# Loading Libraries\n",
    "library(tidymodels)\n",
    "library(tidyverse)"
   ]
  },
  {
   "cell_type": "code",
   "execution_count": 5,
   "id": "53fb2184-b0f9-4b54-a678-b22fbfac8ecc",
   "metadata": {},
   "outputs": [
    {
     "name": "stderr",
     "output_type": "stream",
     "text": [
      "\u001b[1mRows: \u001b[22m\u001b[34m4653\u001b[39m \u001b[1mColumns: \u001b[22m\u001b[34m9\u001b[39m\n",
      "\u001b[36m──\u001b[39m \u001b[1mColumn specification\u001b[22m \u001b[36m────────────────────────────────────────────────────────\u001b[39m\n",
      "\u001b[1mDelimiter:\u001b[22m \",\"\n",
      "\u001b[31mchr\u001b[39m (4): Education, City, Gender, EverBenched\n",
      "\u001b[32mdbl\u001b[39m (5): JoiningYear, PaymentTier, Age, ExperienceInCurrentDomain, LeaveOrNot\n",
      "\n",
      "\u001b[36mℹ\u001b[39m Use `spec()` to retrieve the full column specification for this data.\n",
      "\u001b[36mℹ\u001b[39m Specify the column types or set `show_col_types = FALSE` to quiet this message.\n"
     ]
    },
    {
     "data": {
      "text/html": [
       "<table class=\"dataframe\">\n",
       "<caption>A tibble: 6 × 9</caption>\n",
       "<thead>\n",
       "\t<tr><th scope=col>Education</th><th scope=col>JoiningYear</th><th scope=col>City</th><th scope=col>PaymentTier</th><th scope=col>Age</th><th scope=col>Gender</th><th scope=col>EverBenched</th><th scope=col>ExperienceInCurrentDomain</th><th scope=col>LeaveOrNot</th></tr>\n",
       "\t<tr><th scope=col>&lt;chr&gt;</th><th scope=col>&lt;dbl&gt;</th><th scope=col>&lt;chr&gt;</th><th scope=col>&lt;dbl&gt;</th><th scope=col>&lt;dbl&gt;</th><th scope=col>&lt;chr&gt;</th><th scope=col>&lt;chr&gt;</th><th scope=col>&lt;dbl&gt;</th><th scope=col>&lt;dbl&gt;</th></tr>\n",
       "</thead>\n",
       "<tbody>\n",
       "\t<tr><td>Bachelors</td><td>2017</td><td>Bangalore</td><td>3</td><td>34</td><td>Male  </td><td>No </td><td>0</td><td>0</td></tr>\n",
       "\t<tr><td>Bachelors</td><td>2013</td><td>Pune     </td><td>1</td><td>28</td><td>Female</td><td>No </td><td>3</td><td>1</td></tr>\n",
       "\t<tr><td>Bachelors</td><td>2014</td><td>New Delhi</td><td>3</td><td>38</td><td>Female</td><td>No </td><td>2</td><td>0</td></tr>\n",
       "\t<tr><td>Masters  </td><td>2016</td><td>Bangalore</td><td>3</td><td>27</td><td>Male  </td><td>No </td><td>5</td><td>1</td></tr>\n",
       "\t<tr><td>Masters  </td><td>2017</td><td>Pune     </td><td>3</td><td>24</td><td>Male  </td><td>Yes</td><td>2</td><td>1</td></tr>\n",
       "\t<tr><td>Bachelors</td><td>2016</td><td>Bangalore</td><td>3</td><td>22</td><td>Male  </td><td>No </td><td>0</td><td>0</td></tr>\n",
       "</tbody>\n",
       "</table>\n"
      ],
      "text/latex": [
       "A tibble: 6 × 9\n",
       "\\begin{tabular}{lllllllll}\n",
       " Education & JoiningYear & City & PaymentTier & Age & Gender & EverBenched & ExperienceInCurrentDomain & LeaveOrNot\\\\\n",
       " <chr> & <dbl> & <chr> & <dbl> & <dbl> & <chr> & <chr> & <dbl> & <dbl>\\\\\n",
       "\\hline\n",
       "\t Bachelors & 2017 & Bangalore & 3 & 34 & Male   & No  & 0 & 0\\\\\n",
       "\t Bachelors & 2013 & Pune      & 1 & 28 & Female & No  & 3 & 1\\\\\n",
       "\t Bachelors & 2014 & New Delhi & 3 & 38 & Female & No  & 2 & 0\\\\\n",
       "\t Masters   & 2016 & Bangalore & 3 & 27 & Male   & No  & 5 & 1\\\\\n",
       "\t Masters   & 2017 & Pune      & 3 & 24 & Male   & Yes & 2 & 1\\\\\n",
       "\t Bachelors & 2016 & Bangalore & 3 & 22 & Male   & No  & 0 & 0\\\\\n",
       "\\end{tabular}\n"
      ],
      "text/markdown": [
       "\n",
       "A tibble: 6 × 9\n",
       "\n",
       "| Education &lt;chr&gt; | JoiningYear &lt;dbl&gt; | City &lt;chr&gt; | PaymentTier &lt;dbl&gt; | Age &lt;dbl&gt; | Gender &lt;chr&gt; | EverBenched &lt;chr&gt; | ExperienceInCurrentDomain &lt;dbl&gt; | LeaveOrNot &lt;dbl&gt; |\n",
       "|---|---|---|---|---|---|---|---|---|\n",
       "| Bachelors | 2017 | Bangalore | 3 | 34 | Male   | No  | 0 | 0 |\n",
       "| Bachelors | 2013 | Pune      | 1 | 28 | Female | No  | 3 | 1 |\n",
       "| Bachelors | 2014 | New Delhi | 3 | 38 | Female | No  | 2 | 0 |\n",
       "| Masters   | 2016 | Bangalore | 3 | 27 | Male   | No  | 5 | 1 |\n",
       "| Masters   | 2017 | Pune      | 3 | 24 | Male   | Yes | 2 | 1 |\n",
       "| Bachelors | 2016 | Bangalore | 3 | 22 | Male   | No  | 0 | 0 |\n",
       "\n"
      ],
      "text/plain": [
       "  Education JoiningYear City      PaymentTier Age Gender EverBenched\n",
       "1 Bachelors 2017        Bangalore 3           34  Male   No         \n",
       "2 Bachelors 2013        Pune      1           28  Female No         \n",
       "3 Bachelors 2014        New Delhi 3           38  Female No         \n",
       "4 Masters   2016        Bangalore 3           27  Male   No         \n",
       "5 Masters   2017        Pune      3           24  Male   Yes        \n",
       "6 Bachelors 2016        Bangalore 3           22  Male   No         \n",
       "  ExperienceInCurrentDomain LeaveOrNot\n",
       "1 0                         0         \n",
       "2 3                         1         \n",
       "3 2                         0         \n",
       "4 5                         1         \n",
       "5 2                         1         \n",
       "6 0                         0         "
      ]
     },
     "metadata": {},
     "output_type": "display_data"
    }
   ],
   "source": [
    "employee_data <- read_csv('data/Employee.csv')\n",
    "head(employee_data)"
   ]
  },
  {
   "cell_type": "markdown",
   "id": "b8e79cea-095c-42f6-9282-996308beb894",
   "metadata": {},
   "source": [
    "Overall our data does not have any missing values, nor is there inconsistency within our dataset. Hence, the cleaning and wrangling of the dataset will focus on conducting appropriate encoding techniques for our categorical variables.\n",
    "For Education, we can use Ordinal Encoding on it as it does represent an increasing order as we go from Bachelors, Masters to PHD."
   ]
  },
  {
   "cell_type": "code",
   "execution_count": null,
   "id": "7b5d76fc-66c4-4dbf-a360-6eefccd1f302",
   "metadata": {},
   "outputs": [],
   "source": []
  }
 ],
 "metadata": {
  "kernelspec": {
   "display_name": "R",
   "language": "R",
   "name": "ir"
  },
  "language_info": {
   "codemirror_mode": "r",
   "file_extension": ".r",
   "mimetype": "text/x-r-source",
   "name": "R",
   "pygments_lexer": "r",
   "version": "4.3.3"
  }
 },
 "nbformat": 4,
 "nbformat_minor": 5
}
